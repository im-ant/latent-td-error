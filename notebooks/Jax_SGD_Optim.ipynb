{
 "cells": [
  {
   "cell_type": "markdown",
   "metadata": {},
   "source": [
    "# Optimization test"
   ]
  },
  {
   "cell_type": "code",
   "execution_count": 39,
   "metadata": {},
   "outputs": [],
   "source": [
    "import glob\n",
    "import json\n",
    "import os\n",
    "\n",
    "import numpy as np\n",
    "import jax.numpy as jnp\n",
    "from jax import grad, jit, vmap\n",
    "from jax import random\n",
    "\n",
    "import matplotlib.pyplot as plt\n",
    "#import seaborn as sns"
   ]
  },
  {
   "cell_type": "markdown",
   "metadata": {},
   "source": [
    "### Import data"
   ]
  },
  {
   "cell_type": "code",
   "execution_count": 25,
   "metadata": {},
   "outputs": [
    {
     "data": {
      "text/plain": [
       "{'0': '../multirun/2020-12-26/19-54-29/0/data.json',\n",
       " '1': '../multirun/2020-12-26/19-54-29/1/data.json',\n",
       " '3': '../multirun/2020-12-26/19-54-29/3/data.json',\n",
       " '2': '../multirun/2020-12-26/19-54-29/2/data.json'}"
      ]
     },
     "execution_count": 25,
     "metadata": {},
     "output_type": "execute_result"
    }
   ],
   "source": [
    "dir_wc = '../multirun/2020-12-26/19-54-29/*'\n",
    "\n",
    "# Read\n",
    "data_paths_list = glob.glob(f'{dir_wc}/data.json')\n",
    "\n",
    "# Parse into dict\n",
    "Paths_dict = {}\n",
    "for e in data_paths_list:\n",
    "    Paths_dict[e.split('/')[-2]] = e\n",
    "\n",
    "Paths_dict"
   ]
  },
  {
   "cell_type": "code",
   "execution_count": 26,
   "metadata": {},
   "outputs": [
    {
     "name": "stdout",
     "output_type": "stream",
     "text": [
      "4\n"
     ]
    }
   ],
   "source": [
    "Data_dict = {}\n",
    "\n",
    "for k in Paths_dict:\n",
    "    with open(Paths_dict[k]) as infile:\n",
    "        Data_dict[k] = json.load(infile)\n",
    "\n",
    "print(len(Data_dict))"
   ]
  },
  {
   "cell_type": "markdown",
   "metadata": {},
   "source": [
    "## Optimize Feature Matrix for one run"
   ]
  },
  {
   "cell_type": "code",
   "execution_count": 27,
   "metadata": {},
   "outputs": [
    {
     "data": {
      "text/plain": [
       "dict_keys(['config_dict', 'env_kwargs', 'training_data'])"
      ]
     },
     "execution_count": 27,
     "metadata": {},
     "output_type": "execute_result"
    }
   ],
   "source": [
    "Data_dict['0'].keys()"
   ]
  },
  {
   "cell_type": "markdown",
   "metadata": {},
   "source": [
    "### Utility functions"
   ]
  },
  {
   "cell_type": "code",
   "execution_count": 209,
   "metadata": {},
   "outputs": [
    {
     "data": {
      "text/plain": [
       "dict_keys(['transMat', 'featMat', 'feature_dim', 'errMat', 'n_states', 'gamma', 'lamb', 'lr'])"
      ]
     },
     "execution_count": 209,
     "metadata": {},
     "output_type": "execute_result"
    }
   ],
   "source": [
    "def extract_known_parameters(ddict):\n",
    "    \"\"\"\n",
    "    Given the data dict for a single training run.\n",
    "    Assume offline TD(0) updates\n",
    "    \"\"\"\n",
    "    \n",
    "    # Transition and feature matrices\n",
    "    transMat = np.array(\n",
    "        ddict['env_kwargs']['transition_mat']\n",
    "    )\n",
    "    \n",
    "    featMat = np.array(\n",
    "        ddict['env_kwargs']['feature_mat']\n",
    "    ) # ground truth\n",
    "    \n",
    "    # Error matrix\n",
    "    errMat = np.array(\n",
    "        ddict['training_data']['td_errors']\n",
    "    )\n",
    "    \n",
    "    n_states = ddict['config_dict']['environment']['generator']['kwargs']['n_states']\n",
    "    \n",
    "    # Training parameters\n",
    "    gamma = ddict['config_dict']['agent']['kwargs']['gamma']\n",
    "    lamb = ddict['config_dict']['agent']['kwargs']['lamb']\n",
    "    lr = ddict['config_dict']['agent']['kwargs']['lr']\n",
    "    \n",
    "    \n",
    "    out_dict = {\n",
    "        'transMat': transMat,\n",
    "        'featMat': featMat,\n",
    "        'feature_dim': np.shape(featMat)[1],\n",
    "        'errMat': errMat,\n",
    "        'n_states': n_states,\n",
    "        'gamma': gamma,\n",
    "        'lamb': lamb,\n",
    "        'lr': lr,\n",
    "    }\n",
    "    \n",
    "    return out_dict\n",
    "\n",
    "tabu_infoDict = extract_known_parameters(Data_dict['2'])\n",
    "tabu_infoDict.keys()"
   ]
  },
  {
   "cell_type": "code",
   "execution_count": 210,
   "metadata": {},
   "outputs": [
    {
     "name": "stdout",
     "output_type": "stream",
     "text": [
      "(91, 10)\n",
      "(91, 10)\n"
     ]
    }
   ],
   "source": [
    "def gen_optim_dataset(in_errMat):\n",
    "    \"\"\"\n",
    "    Generate the training data given a matrix of errors\n",
    "    \"\"\"\n",
    "    # \n",
    "    errMat = np.copy(in_errMat)\n",
    "    \n",
    "    # Dims and init\n",
    "    M_ds = sum([n for n in range(1, (len(errMat)))])\n",
    "    T_ds = np.shape(errMat)[1]\n",
    "    \n",
    "    errDiffMat = np.zeros((M_ds, T_ds))\n",
    "    errSumMat = np.zeros((M_ds, T_ds))\n",
    "    \n",
    "    # Generate dataset\n",
    "    counter_idx = 0\n",
    "    for i in range(len(errMat)-1):\n",
    "        cumuErrVec = errMat[i,:]\n",
    "        for j in range(i+1, len(errMat)):\n",
    "            \n",
    "            curErrDiff = errMat[j,:] - errMat[i,:]\n",
    "            errDiffMat[counter_idx,:] = curErrDiff\n",
    "            \n",
    "            errSumMat[counter_idx,:] = cumuErrVec\n",
    "            cumuErrVec += errMat[j, :]\n",
    "        \n",
    "            counter_idx += 1\n",
    "    \n",
    "    return errDiffMat, errSumMat\n",
    "    \n",
    "# Test \n",
    "tmpdiff, tmpsum = gen_optim_dataset(tabu_infoDict['errMat'])\n",
    "print(tmpdiff.shape)\n",
    "print(tmpsum.shape)"
   ]
  },
  {
   "cell_type": "code",
   "execution_count": null,
   "metadata": {},
   "outputs": [],
   "source": []
  },
  {
   "cell_type": "markdown",
   "metadata": {},
   "source": [
    "## Old ref"
   ]
  },
  {
   "cell_type": "code",
   "execution_count": 211,
   "metadata": {},
   "outputs": [
    {
     "name": "stdout",
     "output_type": "stream",
     "text": [
      "12.738422525603852\n",
      "4.551318066837886\n"
     ]
    },
    {
     "data": {
      "text/plain": [
       "DeviceArray(6.373076e-17, dtype=float32)"
      ]
     },
     "execution_count": 211,
     "metadata": {},
     "output_type": "execute_result"
    }
   ],
   "source": [
    "def err_diff_fn(phiMat, errSumVec, obs_dict):\n",
    "    \"\"\"For computing the TD error difference\"\"\"\n",
    "    \n",
    "    n_obs_states = obs_dict['n_states']-1  # TODO hacky?\n",
    "    \n",
    "    cp_errSumVec = jnp.array(errSumVec)\n",
    "    \n",
    "    # Left side matrix\n",
    "    alpha = obs_dict['lr']\n",
    "    gamma = obs_dict['gamma']\n",
    "    trMat = obs_dict['transMat']\n",
    "    \n",
    "    lefMat = alpha * (gamma * trMat - np.identity(len(trMat)))\n",
    "    lefMat = lefMat[:n_obs_states, :n_obs_states]  # TODO not sure if correct\n",
    "    \n",
    "    # \n",
    "    outerPhi = jnp.dot(phiMat, phiMat.T)\n",
    "    \n",
    "    return jnp.dot(jnp.dot(lefMat, outerPhi), cp_errSumVec)\n",
    "\n",
    "def loss(phiMat, errSumVec, targetVec, obs_dict):\n",
    "    \"\"\"MSE loss function for a given sample\"\"\"\n",
    "    cp_errSumVec = jnp.array(errSumVec)\n",
    "    cp_targetVec = jnp.array(targetVec)\n",
    "    predVec = err_diff_fn(phiMat, cp_errSumVec, obs_dict)\n",
    "    return jnp.mean(jnp.square((cp_targetVec - predVec)))\n",
    "    \n",
    "\n",
    "# Test above with the first two days\n",
    "tmp_phiMat = jnp.array(np.copy(tabu_infoDict['featMat'][:10]))\n",
    "print(np.sum(tabu_infoDict['featMat']))\n",
    "print(np.sum(tabu_infoDict['errMat']))\n",
    "\n",
    "\n",
    "loss(\n",
    "    tmp_phiMat,\n",
    "    tabu_infoDict['errMat'][0],\n",
    "    (tabu_infoDict['errMat'][1] - tabu_infoDict['errMat'][0]),\n",
    "    tabu_infoDict,\n",
    ")"
   ]
  },
  {
   "cell_type": "code",
   "execution_count": 212,
   "metadata": {},
   "outputs": [
    {
     "name": "stdout",
     "output_type": "stream",
     "text": [
      "(10, 4)\n",
      "19.953606\n"
     ]
    }
   ],
   "source": [
    "def init_phi_params(state_dim, feature_dim=4):\n",
    "    \"\"\"Initialization\"\"\"\n",
    "    rgenkey = random.PRNGKey(1)\n",
    "    mat = random.uniform(rgenkey, shape=(state_dim, feature_dim), \n",
    "                         #minval=-1e-3, maxval=1e-3\n",
    "                        )\n",
    "    return mat\n",
    "\n",
    "\n",
    "# Testing\n",
    "tmp_rand = init_phi_params(\n",
    "    (tabu_infoDict['n_states']-1),\n",
    "    feature_dim=4,\n",
    ")\n",
    "print(tmp_rand.shape)\n",
    "print(tmp_rand.sum())"
   ]
  },
  {
   "cell_type": "markdown",
   "metadata": {},
   "source": [
    "### Optimization\n",
    "\n",
    "**NOTE** Seems like it is being computed, but it just explodes to NaN / Inf after one step, not sure how to fix this yet"
   ]
  },
  {
   "cell_type": "code",
   "execution_count": 213,
   "metadata": {},
   "outputs": [
    {
     "data": {
      "text/plain": [
       "['transMat',\n",
       " 'featMat',\n",
       " 'feature_dim',\n",
       " 'errMat',\n",
       " 'n_states',\n",
       " 'gamma',\n",
       " 'lamb',\n",
       " 'lr']"
      ]
     },
     "execution_count": 213,
     "metadata": {},
     "output_type": "execute_result"
    }
   ],
   "source": [
    "list(tabu_infoDict)"
   ]
  },
  {
   "cell_type": "code",
   "execution_count": 215,
   "metadata": {
    "scrolled": false
   },
   "outputs": [
    {
     "name": "stdout",
     "output_type": "stream",
     "text": [
      "phi_param sum 48.830673\n",
      "Iteration: 0, Loss: 0.30845528841018677\n",
      "Iteration: 200, Loss: 0.01691681519150734\n",
      "Iteration: 400, Loss: 0.015525865368545055\n",
      "Iteration: 600, Loss: 0.0151614248752594\n",
      "Iteration: 800, Loss: 0.014980372041463852\n"
     ]
    },
    {
     "data": {
      "text/plain": [
       "DeviceArray([[-0.16083322,  0.26377058, -0.0463172 ,  0.08878258,\n",
       "               1.0131717 ,  0.9405479 , -0.20294406,  0.953471  ,\n",
       "               0.76166165,  0.62235713],\n",
       "             [ 0.17507206,  0.6926856 ,  0.20415334,  0.45586967,\n",
       "               0.5265354 ,  1.00235   , -0.03923352,  0.07313479,\n",
       "               1.3069204 ,  0.2956203 ],\n",
       "             [ 0.22271147, -0.09616927,  0.6112591 ,  0.38033777,\n",
       "               0.57313645,  0.986961  ,  0.4520119 ,  0.82539296,\n",
       "               1.08899   ,  0.94666624],\n",
       "             [ 0.20328493,  0.7921298 ,  0.61061776,  1.1591036 ,\n",
       "               0.50731057,  1.0323274 ,  0.24312468,  0.9374667 ,\n",
       "               0.58087736,  0.5701187 ],\n",
       "             [ 0.7525608 ,  0.76868975,  1.0124578 ,  0.9925539 ,\n",
       "               0.81090564,  0.5506086 ,  0.7875763 ,  0.2098647 ,\n",
       "               0.8821291 ,  0.5257813 ],\n",
       "             [ 0.5087428 ,  1.0593618 ,  0.8730648 ,  0.97107595,\n",
       "               0.6490517 ,  0.02813849,  1.4452436 ,  0.8292674 ,\n",
       "               1.0254345 ,  0.6115119 ],\n",
       "             [ 0.7250915 ,  1.2187017 ,  1.5691061 ,  0.7504593 ,\n",
       "               0.43776456,  0.0043082 ,  1.5055221 ,  0.93768144,\n",
       "               0.54774517,  1.2483976 ],\n",
       "             [ 1.1267306 ,  1.6839261 ,  1.2676399 ,  1.225345  ,\n",
       "               0.788693  ,  0.12123848,  1.9446507 ,  0.5454194 ,\n",
       "               0.17418323,  0.800044  ],\n",
       "             [ 1.0572025 ,  1.5139776 ,  1.3702974 ,  1.1032631 ,\n",
       "               0.35880286,  0.23682779,  1.8724992 ,  0.888718  ,\n",
       "               0.41943064,  0.951725  ],\n",
       "             [-0.04143665,  0.47329342,  0.5404894 ,  0.735511  ,\n",
       "               1.2102152 ,  0.95686716, -0.320111  ,  0.5107528 ,\n",
       "               1.6359648 ,  0.6378306 ]], dtype=float32)"
      ]
     },
     "execution_count": 215,
     "metadata": {},
     "output_type": "execute_result"
    }
   ],
   "source": [
    "def script_optimize(infoDict):\n",
    "    \n",
    "    # ==\n",
    "    # Get the target matrix\n",
    "    eDiffMat, eSumMat = gen_optim_dataset(infoDict['errMat'])\n",
    "    \n",
    "    # ==\n",
    "    # Define loss and gradient function\n",
    "    def loss_fn(phiMat, errSumVec, targetVec):\n",
    "        return loss(phiMat, errSumVec, targetVec, infoDict)\n",
    "    \n",
    "    def sum_loss_fn(phiMat, errSumBatch, targetBatch):\n",
    "        loss_vec_fn = vmap(loss_fn, in_axes=(None, 0, 0), out_axes=0)\n",
    "        return jnp.average(loss_vec_fn(phiMat, errSumBatch, targetBatch))\n",
    "    \n",
    "    loss_grad = grad(sum_loss_fn)\n",
    "    \n",
    "    # ==\n",
    "    # Initialize\n",
    "    \n",
    "    phi_param = init_phi_params(state_dim=10, feature_dim=10)\n",
    "    print('phi_param sum', np.sum(phi_param))\n",
    "    \n",
    "    \n",
    "    loss_grad(phi_param, eSumMat, eDiffMat)\n",
    "    \n",
    "    # ==\n",
    "    N_iterations = 1000\n",
    "    lr = 1.0\n",
    "    momentum_constant = 0.99\n",
    "    \n",
    "    \"\"\"\n",
    "    #  Try to do this for one sample only\n",
    "    loss_grad = grad(loss)\n",
    "    for nth_iter in range(10):\n",
    "        cur_loss = loss(phi_param, eSumMat[0], eDiffMat[0], infoDict)\n",
    "        print(f'Iteration: {nth_iter}, Loss: {cur_loss}')\n",
    "        \n",
    "        g_loss = loss_grad(phi_param, eSumMat[0], eDiffMat[0], infoDict)\n",
    "        #phi_param = phi_param - (lr * (g_loss / jnp.linalg.norm(g_loss)))\n",
    "        phi_param = phi_param - (lr * g_loss)    \n",
    "    \n",
    "    return phi_param\n",
    "    \n",
    "    a = 1/0\n",
    "    \"\"\"\n",
    "    \n",
    "    cur_velocity = 0.0\n",
    "\n",
    "    for nth_iter in range(N_iterations):\n",
    "        cur_loss = sum_loss_fn(phi_param, eSumMat, eDiffMat)\n",
    "        \n",
    "        if nth_iter % 200 == 0:\n",
    "            print(f'Iteration: {nth_iter}, Loss: {cur_loss}')\n",
    "        \n",
    "        g_loss = loss_grad(phi_param, eSumMat, eDiffMat)\n",
    "        \n",
    "        delta_param = cur_velocity * momentum_constant + (lr * (g_loss))\n",
    "        phi_param = phi_param - delta_param\n",
    "    \n",
    "    return phi_param\n",
    "    s\n",
    "tmp_out_phi = script_optimize(tabu_infoDict)\n",
    "\n",
    "\n",
    "tmp_out_phi"
   ]
  },
  {
   "cell_type": "code",
   "execution_count": null,
   "metadata": {},
   "outputs": [],
   "source": []
  },
  {
   "cell_type": "code",
   "execution_count": 216,
   "metadata": {},
   "outputs": [
    {
     "name": "stdout",
     "output_type": "stream",
     "text": [
      "(10, 10)\n"
     ]
    },
    {
     "data": {
      "image/png": "[encoded data removed]",
      "text/plain": [
       "<Figure size 432x288 with 2 Axes>"
      ]
     },
     "metadata": {
      "needs_background": "light"
     },
     "output_type": "display_data"
    },
    {
     "data": {
      "image/png": "[encoded data removed]",
      "text/plain": [
       "<Figure size 432x288 with 2 Axes>"
      ]
     },
     "metadata": {
      "needs_background": "light"
     },
     "output_type": "display_data"
    }
   ],
   "source": [
    "\n",
    "tmp = np.array(tmp_out_phi)\n",
    "print(tmp.shape)\n",
    "\n",
    "tmp2 = np.copy(tabu_infoDict['featMat'][0:-1])\n",
    "\n",
    "plt.imshow(tmp2)\n",
    "plt.colorbar()\n",
    "plt.show()\n",
    "\n",
    "plt.imshow(tmp)\n",
    "plt.colorbar()\n",
    "plt.show()"
   ]
  },
  {
   "cell_type": "code",
   "execution_count": 227,
   "metadata": {},
   "outputs": [
    {
     "data": {
      "image/png": "[encoded data removed]",
      "text/plain": [
       "<Figure size 576x576 with 8 Axes>"
      ]
     },
     "metadata": {
      "needs_background": "light"
     },
     "output_type": "display_data"
    }
   ],
   "source": [
    "tmp_outerA = tmp2 @ tmp2.T  # real feature\n",
    "tmp_outerB = tmp @ tmp.T\n",
    "\n",
    "plt.figure(figsize=(8,8))\n",
    "\n",
    "plt.subplot(2,2,1)\n",
    "plt.imshow(tmp_outerA)\n",
    "plt.colorbar()\n",
    "\n",
    "plt.subplot(2,2,2)\n",
    "plt.imshow(tmp_outerA / np.sum(tmp_outerA, axis=1, keepdims=True))\n",
    "plt.colorbar()\n",
    "\n",
    "plt.subplot(2,2,3)\n",
    "plt.imshow(tmp_outerB)\n",
    "plt.colorbar()\n",
    "\n",
    "plt.subplot(2,2,4)\n",
    "plt.imshow(tmp_outerB / np.sum(tmp_outerB, axis=1, keepdims=True))\n",
    "plt.colorbar()\n",
    "\n",
    "plt.show()"
   ]
  },
  {
   "cell_type": "code",
   "execution_count": 218,
   "metadata": {},
   "outputs": [],
   "source": [
    "# A @ A.T = B\n",
    "# A.T = inv(A) @ B\n"
   ]
  },
  {
   "cell_type": "markdown",
   "metadata": {},
   "source": [
    "### Rand"
   ]
  },
  {
   "cell_type": "code",
   "execution_count": 219,
   "metadata": {},
   "outputs": [
    {
     "data": {
      "text/plain": [
       "['transMat',\n",
       " 'featMat',\n",
       " 'feature_dim',\n",
       " 'errMat',\n",
       " 'n_states',\n",
       " 'gamma',\n",
       " 'lamb',\n",
       " 'lr']"
      ]
     },
     "execution_count": 219,
     "metadata": {},
     "output_type": "execute_result"
    }
   ],
   "source": [
    "list(tabu_infoDict)"
   ]
  },
  {
   "cell_type": "code",
   "execution_count": 220,
   "metadata": {},
   "outputs": [
    {
     "name": "stdout",
     "output_type": "stream",
     "text": [
      "(10, 10)\n",
      "0.9\n",
      "(10, 3)\n",
      "(10, 3)\n"
     ]
    }
   ],
   "source": [
    "tmpP = np.copy(tabu_infoDict['transMat'])[:-1,:-1]\n",
    "print(np.shape(tmpP))\n",
    "\n",
    "tmpGamma = tabu_infoDict['gamma']\n",
    "print(tmpGamma)\n",
    "\n",
    "tmptmpPhi = np.copy(tabu_infoDict['featMat'])[:-1]\n",
    "print(np.shape(tmptmpPhi))\n",
    "\n",
    "# Solve for SF\n",
    "tmp_cmat = (np.identity(len(tmpP)) - (tmpGamma * tmpP))\n",
    "tmpSf = np.linalg.inv(tmp_cmat) @ tmptmpPhi\n",
    "print(np.shape(tmpSf))\n"
   ]
  },
  {
   "cell_type": "code",
   "execution_count": 221,
   "metadata": {},
   "outputs": [
    {
     "data": {
      "image/png": "[encoded data removed]",
      "text/plain": [
       "<Figure size 864x288 with 3 Axes>"
      ]
     },
     "metadata": {
      "needs_background": "light"
     },
     "output_type": "display_data"
    }
   ],
   "source": [
    "# plot\n",
    "\n",
    "plt.figure(figsize=(12,4))\n",
    "\n",
    "plt.subplot(1,3,1)\n",
    "plt.imshow(tmpSf)\n",
    "\n",
    "plt.subplot(1,3,2)\n",
    "tmptmpSfSf = tmpSf @ tmpSf.T\n",
    "plt.imshow(tmptmpSfSf)\n",
    "\n",
    "plt.subplot(1,3,3)\n",
    "plt.imshow(tmptmpSfSf / np.sum(tmptmpSfSf, axis=1, keepdims=True))\n",
    "\n",
    "plt.show()"
   ]
  },
  {
   "cell_type": "code",
   "execution_count": null,
   "metadata": {},
   "outputs": [],
   "source": []
  },
  {
   "cell_type": "code",
   "execution_count": null,
   "metadata": {},
   "outputs": [],
   "source": []
  },
  {
   "cell_type": "code",
   "execution_count": null,
   "metadata": {},
   "outputs": [],
   "source": []
  }
 ],
 "metadata": {
  "kernelspec": {
   "display_name": "Python 3",
   "language": "python",
   "name": "python3"
  },
  "language_info": {
   "codemirror_mode": {
    "name": "ipython",
    "version": 3
   },
   "file_extension": ".py",
   "mimetype": "text/x-python",
   "name": "python",
   "nbconvert_exporter": "python",
   "pygments_lexer": "ipython3",
   "version": "3.7.6"
  }
 },
 "nbformat": 4,
 "nbformat_minor": 4
}
